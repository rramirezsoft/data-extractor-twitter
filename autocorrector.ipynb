{
 "cells": [
  {
   "cell_type": "code",
   "execution_count": 2,
   "id": "7e7aeecf-6be1-4db2-885c-120cea32c7a1",
   "metadata": {},
   "outputs": [
    {
     "ename": "ModuleNotFoundError",
     "evalue": "No module named 'data_extractor'",
     "output_type": "error",
     "traceback": [
      "\u001b[31m---------------------------------------------------------------------------\u001b[39m",
      "\u001b[31mModuleNotFoundError\u001b[39m                       Traceback (most recent call last)",
      "\u001b[36mCell\u001b[39m\u001b[36m \u001b[39m\u001b[32mIn[2]\u001b[39m\u001b[32m, line 3\u001b[39m\n\u001b[32m      1\u001b[39m \u001b[38;5;28;01mimport\u001b[39;00m\u001b[38;5;250m \u001b[39m\u001b[34;01mpandas\u001b[39;00m\u001b[38;5;250m \u001b[39m\u001b[38;5;28;01mas\u001b[39;00m\u001b[38;5;250m \u001b[39m\u001b[34;01mpd\u001b[39;00m\n\u001b[32m      2\u001b[39m \u001b[38;5;28;01mimport\u001b[39;00m\u001b[38;5;250m \u001b[39m\u001b[34;01mregex\u001b[39;00m\u001b[38;5;250m \u001b[39m\u001b[38;5;28;01mas\u001b[39;00m\u001b[38;5;250m \u001b[39m\u001b[34;01mre\u001b[39;00m\n\u001b[32m----> \u001b[39m\u001b[32m3\u001b[39m \u001b[38;5;28;01mfrom\u001b[39;00m\u001b[38;5;250m \u001b[39m\u001b[34;01mdata_extractor\u001b[39;00m\u001b[38;5;250m \u001b[39m\u001b[38;5;28;01mimport\u001b[39;00m DataExtractor\n",
      "\u001b[31mModuleNotFoundError\u001b[39m: No module named 'data_extractor'"
     ]
    }
   ],
   "source": [
    "import pandas as pd\n",
    "import regex as re\n",
    "from data_extractor import DataExtractor"
   ]
  },
  {
   "cell_type": "markdown",
   "id": "2a1186ad-0f19-49d2-92a3-6a340d577cc7",
   "metadata": {},
   "source": [
    "Para ejecutar el corrector automático, asegúrense de tener los siguientes ficheros en la misma carpeta: \"sample.json\" que podéis descargar de Blackboard, \"Bitcoin_tweets_dataset_2.csv\" que es el aportado en la práctica en Blackboard y \"DataExtractor.py\" implementado por vosotros en esta práctica.\n",
    "\n",
    "Para probar que todo funciona correctamente, ejecutar todas las celdas en orden y si obtenéis como resultado de la celda final todo correcto, entonces vuestro código es válido. De lo contrario os aparecerá un error en la última línea del error os indicará la fila del resultado que está mal.\n",
    "\n",
    "Ejemplo de resultado correcto:\n",
    "\n",
    "Checking the column Hashtags\n",
    "\n",
    "Correct!\n",
    "\n",
    "Checking the column URLs\n",
    "\n",
    "Correct!\n",
    "\n",
    "Checking the column Prices\n",
    "\n",
    "Correct!\n",
    "\n",
    "Checking the column Emoticons\n",
    "\n",
    "Correct!\n",
    "\n",
    "Checking the column Mentions\n",
    "\n",
    "Correct!\n"
   ]
  },
  {
   "cell_type": "code",
   "execution_count": null,
   "id": "abf5cea5-1df7-4d5c-ae3d-4f5a6b332860",
   "metadata": {},
   "outputs": [],
   "source": [
    "df = pd.read_json(\"sample.json\")"
   ]
  },
  {
   "cell_type": "code",
   "execution_count": null,
   "id": "77fa167b-f143-4a55-a66a-54886c0f815a",
   "metadata": {},
   "outputs": [],
   "source": [
    "de = DataExtractor(\"Bitcoin_tweets_dataset_2.csv\")"
   ]
  },
  {
   "cell_type": "code",
   "execution_count": null,
   "id": "27f19395-52e6-44e7-b664-f58c7d13a972",
   "metadata": {},
   "outputs": [],
   "source": [
    "result = de.process_text()"
   ]
  },
  {
   "cell_type": "code",
   "execution_count": null,
   "id": "3590d469-a4a3-40c4-8f05-1e75ab1650eb",
   "metadata": {},
   "outputs": [],
   "source": [
    "df_res = result[0:40]"
   ]
  },
  {
   "cell_type": "code",
   "execution_count": null,
   "id": "026aec8c-7f0f-4b84-b5a0-a6d1a704dcbf",
   "metadata": {},
   "outputs": [
    {
     "name": "stdout",
     "output_type": "stream",
     "text": [
      "Checking the column Hashtags\n",
      "Correct!\n",
      "Checking the column URLs\n",
      "Correct!\n",
      "Checking the column Prices\n",
      "Correct!\n",
      "Checking the column Emoticons\n",
      "Correct!\n",
      "Checking the column Mentions\n",
      "Correct!\n"
     ]
    }
   ],
   "source": [
    "for column in df.columns[2:-1]:\n",
    "    print(f\"Checking the column {column}\")\n",
    "    pd.testing.assert_series_equal(df_res[column], df[column], check_index=False, check_categorical =False)\n",
    "    print(\"Correct!\")"
   ]
  }
 ],
 "metadata": {
  "kernelspec": {
   "display_name": "venv",
   "language": "python",
   "name": "python3"
  },
  "language_info": {
   "codemirror_mode": {
    "name": "ipython",
    "version": 3
   },
   "file_extension": ".py",
   "mimetype": "text/x-python",
   "name": "python",
   "nbconvert_exporter": "python",
   "pygments_lexer": "ipython3",
   "version": "3.11.9"
  }
 },
 "nbformat": 4,
 "nbformat_minor": 5
}
